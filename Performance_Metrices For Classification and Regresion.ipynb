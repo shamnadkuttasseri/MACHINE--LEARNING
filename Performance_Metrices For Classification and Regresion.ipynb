{
 "cells": [
  {
   "cell_type": "markdown",
   "id": "338a2d87",
   "metadata": {},
   "source": [
    "### Performance_Metrices For Classification and Regresion"
   ]
  },
  {
   "cell_type": "code",
   "execution_count": 8,
   "id": "5a8feb13",
   "metadata": {},
   "outputs": [],
   "source": [
    "from sklearn.metrics import accuracy_score,precision_score,f1_score,recall_score,confusion_matrix\n",
    "from sklearn.metrics import mean_absolute_error,mean_squared_error,r2_score,median_absolute_error\n",
    "\n",
    "#classification metrics\n",
    "actual_labels=[0,1,1,0,1,0,1,0,1,1]\n",
    "predicted_labels=[0,1,0,1,1,0,1,0,0,1]\n",
    "\n",
    "accuracy=accuracy_score(actual_labels,predicted_labels)\n",
    "#this line calculates the accuracy score,which measures,the proportion of correctly predicted labels\n",
    "\n",
    "\n",
    "precision=precision_score(actual_labels,predicted_labels)\n",
    "#which measures the ability of the classifier not to label a sample as positive when it is negative\n",
    "\n",
    "recall=recall_score(actual_labels,predicted_labels) \n",
    "#which measures the ability of the classifier to find all positive samples\n",
    "\n",
    "\n",
    "f1=f1_score(actual_labels,predicted_labels)\n",
    "# the harmonic mean of precision and recall. it provides a balance between precision and recall\n",
    "\n",
    "conf_matrix=confusion_matrix(actual_labels,predicted_labels)\n",
    "#this line calculates the confusion matrix, which is a table that summarises the perormance of a classified algorithm."
   ]
  },
  {
   "cell_type": "markdown",
   "id": "05dba918",
   "metadata": {},
   "source": [
    "1. A high f1 score indicates both high precision and recall, meaning the model is making accurate positive predictions and is able to find most of the positive instancec\n",
    "\n",
    "2. A low F1 score suggests either low precision or low recall,or both,indicating that the model's performance is lacking in one or both aspects\n"
   ]
  },
  {
   "cell_type": "code",
   "execution_count": 3,
   "id": "1f5c5f6e",
   "metadata": {},
   "outputs": [
    {
     "name": "stdout",
     "output_type": "stream",
     "text": [
      "Accuracy: 0.7\n"
     ]
    }
   ],
   "source": [
    "print('Accuracy:',accuracy)"
   ]
  },
  {
   "cell_type": "code",
   "execution_count": 4,
   "id": "09339a65",
   "metadata": {},
   "outputs": [
    {
     "name": "stdout",
     "output_type": "stream",
     "text": [
      "Precition 0.8\n"
     ]
    }
   ],
   "source": [
    "print('Precition',precision)"
   ]
  },
  {
   "cell_type": "code",
   "execution_count": 5,
   "id": "996880a3",
   "metadata": {},
   "outputs": [
    {
     "name": "stdout",
     "output_type": "stream",
     "text": [
      "Recall 0.6666666666666666\n"
     ]
    }
   ],
   "source": [
    "print(\"Recall\",recall)"
   ]
  },
  {
   "cell_type": "code",
   "execution_count": 6,
   "id": "d5561a9a",
   "metadata": {},
   "outputs": [
    {
     "name": "stdout",
     "output_type": "stream",
     "text": [
      "F1_score 0.7272727272727272\n"
     ]
    }
   ],
   "source": [
    "print(\"F1_score\",f1)"
   ]
  },
  {
   "cell_type": "code",
   "execution_count": 10,
   "id": "5fcd021e",
   "metadata": {},
   "outputs": [
    {
     "name": "stdout",
     "output_type": "stream",
     "text": [
      "Confusion_matrix\n",
      " [[3 1]\n",
      " [2 4]]\n"
     ]
    }
   ],
   "source": [
    "print(\"Confusion_matrix\\n\",conf_matrix)"
   ]
  },
  {
   "cell_type": "code",
   "execution_count": 12,
   "id": "29b0a78e",
   "metadata": {},
   "outputs": [],
   "source": [
    "#regression metrics\n",
    "actual_values=[10,15,20,25,30]\n",
    "predicted_values=[12,14,18,28,33]\n",
    "\n",
    "mae=mean_absolute_error(actual_values,predicted_values)\n",
    "#measures the average absolute difference between the actual and predicted values.\n",
    "\n",
    "mse=mean_squared_error(actual_values,predicted_values)\n",
    "#measures the average of the squares of the difference between the actual  and predicted values.\n",
    "\n",
    "r2=r2_score(actual_values,predicted_values)\n",
    "#represents the proportion of the variance in dependent variable that is predictable from the independent variables.\n",
    "# it is a measure of how well the preictions approximate the true values\n",
    "\n",
    "medae=median_absolute_error(actual_values,predicted_values)\n",
    "#measures the median of the absolute difference between the actual and predicted values"
   ]
  },
  {
   "cell_type": "code",
   "execution_count": 13,
   "id": "968754fd",
   "metadata": {},
   "outputs": [
    {
     "name": "stdout",
     "output_type": "stream",
     "text": [
      "Mean Absolute Error: 2.2\n"
     ]
    }
   ],
   "source": [
    "print(\"Mean Absolute Error:\",mae)"
   ]
  },
  {
   "cell_type": "code",
   "execution_count": 14,
   "id": "837bdc31",
   "metadata": {},
   "outputs": [
    {
     "name": "stdout",
     "output_type": "stream",
     "text": [
      "mean squared error: 5.4\n"
     ]
    }
   ],
   "source": [
    "print(\"mean squared error:\",mse)"
   ]
  },
  {
   "cell_type": "code",
   "execution_count": 15,
   "id": "a861f18b",
   "metadata": {},
   "outputs": [
    {
     "name": "stdout",
     "output_type": "stream",
     "text": [
      "R2_score 0.892\n"
     ]
    }
   ],
   "source": [
    "print(\"R2_score\",r2)"
   ]
  },
  {
   "cell_type": "code",
   "execution_count": 16,
   "id": "6dae4480",
   "metadata": {},
   "outputs": [
    {
     "name": "stdout",
     "output_type": "stream",
     "text": [
      "median absolute error: 2.0\n"
     ]
    }
   ],
   "source": [
    "print(\"median absolute error:\",medae)"
   ]
  },
  {
   "cell_type": "code",
   "execution_count": null,
   "id": "c03f0791",
   "metadata": {},
   "outputs": [],
   "source": []
  }
 ],
 "metadata": {
  "kernelspec": {
   "display_name": "Python 3 (ipykernel)",
   "language": "python",
   "name": "python3"
  },
  "language_info": {
   "codemirror_mode": {
    "name": "ipython",
    "version": 3
   },
   "file_extension": ".py",
   "mimetype": "text/x-python",
   "name": "python",
   "nbconvert_exporter": "python",
   "pygments_lexer": "ipython3",
   "version": "3.11.5"
  }
 },
 "nbformat": 4,
 "nbformat_minor": 5
}
